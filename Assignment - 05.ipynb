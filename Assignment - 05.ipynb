{
 "cells": [
  {
   "cell_type": "code",
   "execution_count": null,
   "id": "227d872b",
   "metadata": {},
   "outputs": [],
   "source": [
    "1. What does an empty dictionary's code look like?\n",
    "Answer-  as follow empty dictionary look like {}"
   ]
  },
  {
   "cell_type": "code",
   "execution_count": 1,
   "id": "04a199be",
   "metadata": {},
   "outputs": [
    {
     "data": {
      "text/plain": [
       "dict"
      ]
     },
     "execution_count": 1,
     "metadata": {},
     "output_type": "execute_result"
    }
   ],
   "source": [
    "d={}\n",
    "type(d)"
   ]
  },
  {
   "cell_type": "code",
   "execution_count": null,
   "id": "d37541ae",
   "metadata": {},
   "outputs": [],
   "source": [
    "2. What is the value of a dictionary value with the keys and the value 42?\n",
    "Answer- d1={\"foo\":42}"
   ]
  },
  {
   "cell_type": "code",
   "execution_count": 2,
   "id": "71a8805d",
   "metadata": {},
   "outputs": [
    {
     "data": {
      "text/plain": [
       "{'foo': 42}"
      ]
     },
     "execution_count": 2,
     "metadata": {},
     "output_type": "execute_result"
    }
   ],
   "source": [
    "d1={\"foo\":42}\n",
    "d1"
   ]
  },
  {
   "cell_type": "code",
   "execution_count": null,
   "id": "d4190684",
   "metadata": {},
   "outputs": [],
   "source": [
    "3. What is the most significant distinction between a dictionary and a list?\n",
    "Answer- List is holding the data in the form of arrray where as dict holding the data in the form of pairing (keys and value)\n",
    "        list can be define as l1 = []\n",
    "        dict can be define as d1 = {}\n",
    "        "
   ]
  },
  {
   "cell_type": "code",
   "execution_count": null,
   "id": "038baaf3",
   "metadata": {},
   "outputs": [],
   "source": [
    "4. What happens if you try to access spam['foo'] if spam is {'bar': 100}?\n",
    "Answer- it will give the key error beacuse spam does not contain any key 'foo'"
   ]
  },
  {
   "cell_type": "code",
   "execution_count": 3,
   "id": "bfedcf69",
   "metadata": {},
   "outputs": [
    {
     "ename": "KeyError",
     "evalue": "'fool'",
     "output_type": "error",
     "traceback": [
      "\u001b[1;31m---------------------------------------------------------------------------\u001b[0m",
      "\u001b[1;31mKeyError\u001b[0m                                  Traceback (most recent call last)",
      "Input \u001b[1;32mIn [3]\u001b[0m, in \u001b[0;36m<cell line: 2>\u001b[1;34m()\u001b[0m\n\u001b[0;32m      1\u001b[0m spam \u001b[38;5;241m=\u001b[39m {\u001b[38;5;124m'\u001b[39m\u001b[38;5;124mbar\u001b[39m\u001b[38;5;124m'\u001b[39m:\u001b[38;5;241m100\u001b[39m}\n\u001b[1;32m----> 2\u001b[0m \u001b[43mspam\u001b[49m\u001b[43m[\u001b[49m\u001b[38;5;124;43m'\u001b[39;49m\u001b[38;5;124;43mfool\u001b[39;49m\u001b[38;5;124;43m'\u001b[39;49m\u001b[43m]\u001b[49m\n",
      "\u001b[1;31mKeyError\u001b[0m: 'fool'"
     ]
    }
   ],
   "source": [
    "spam = {'bar':100}\n",
    "spam['fool']"
   ]
  },
  {
   "cell_type": "code",
   "execution_count": null,
   "id": "4247aac4",
   "metadata": {},
   "outputs": [],
   "source": [
    "5. If a dictionary is stored in spam, what is the difference between the expressions 'cat'; in spam and\n",
    "'cat'; in spam.keys()?\n",
    "Answer- it will check whether 'cat' is present in spam or not, there is no any difference"
   ]
  },
  {
   "cell_type": "code",
   "execution_count": null,
   "id": "4e3e40c5",
   "metadata": {},
   "outputs": [],
   "source": [
    "6. If a dictionary is stored in spam, what is the difference between the expressions 'cat'; in spam and\n",
    "'cat'; in spam.values()?\n",
    "Answer-it will check whether 'cat' is present as value in spam or not, there is no any difference"
   ]
  },
  {
   "cell_type": "code",
   "execution_count": null,
   "id": "3d3ef413",
   "metadata": {},
   "outputs": [],
   "source": [
    "7. What is a shortcut for the following code?\n",
    "if 'color' not in spam:\n",
    "spam['color']='black'"
   ]
  },
  {
   "cell_type": "code",
   "execution_count": null,
   "id": "a718efb7",
   "metadata": {},
   "outputs": [],
   "source": [
    "spam={'colour':'black'}"
   ]
  },
  {
   "cell_type": "code",
   "execution_count": null,
   "id": "5b313c97",
   "metadata": {},
   "outputs": [],
   "source": [
    "8. How do you \"pretty print\" dictionary values using which module and function?"
   ]
  },
  {
   "cell_type": "code",
   "execution_count": 4,
   "id": "b8ae52f2",
   "metadata": {},
   "outputs": [
    {
     "name": "stdout",
     "output_type": "stream",
     "text": [
      "10\n",
      "20\n",
      "30\n"
     ]
    }
   ],
   "source": [
    "#Answer pri\n",
    "d3={'a':10, 'b':20 , 'c':30}\n",
    "for i in d3.values():\n",
    "    print(i)"
   ]
  },
  {
   "cell_type": "code",
   "execution_count": 8,
   "id": "c5e02e71",
   "metadata": {},
   "outputs": [
    {
     "name": "stdout",
     "output_type": "stream",
     "text": [
      "10\n",
      "20\n",
      "30\n"
     ]
    }
   ],
   "source": [
    "import pprint\n",
    "for i in d3.values():\n",
    "    pprint.pprint(i)"
   ]
  },
  {
   "cell_type": "code",
   "execution_count": 9,
   "id": "a60b01c7",
   "metadata": {},
   "outputs": [
    {
     "name": "stdout",
     "output_type": "stream",
     "text": [
      "{'a': 10, 'b': 20, 'c': 30}\n"
     ]
    }
   ],
   "source": [
    "import pprint\n",
    "pprint.pprint(d3)"
   ]
  },
  {
   "cell_type": "code",
   "execution_count": 10,
   "id": "7071d876",
   "metadata": {},
   "outputs": [
    {
     "data": {
      "text/plain": [
       "{'a': 10, 'b': 20, 'c': 30}"
      ]
     },
     "execution_count": 10,
     "metadata": {},
     "output_type": "execute_result"
    }
   ],
   "source": [
    "d3"
   ]
  },
  {
   "cell_type": "code",
   "execution_count": null,
   "id": "a15dc696",
   "metadata": {},
   "outputs": [],
   "source": []
  }
 ],
 "metadata": {
  "kernelspec": {
   "display_name": "Python 3 (ipykernel)",
   "language": "python",
   "name": "python3"
  },
  "language_info": {
   "codemirror_mode": {
    "name": "ipython",
    "version": 3
   },
   "file_extension": ".py",
   "mimetype": "text/x-python",
   "name": "python",
   "nbconvert_exporter": "python",
   "pygments_lexer": "ipython3",
   "version": "3.9.12"
  }
 },
 "nbformat": 4,
 "nbformat_minor": 5
}
